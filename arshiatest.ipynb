{
 "cells": [
  {
   "cell_type": "code",
   "execution_count": 1,
   "id": "1356f3aa-bc82-4cf6-8952-c4193920c52c",
   "metadata": {},
   "outputs": [
    {
     "ename": "ERROR",
     "evalue": "Error in eval(expr, envir, enclos): object 'test' not found\n",
     "output_type": "error",
     "traceback": [
      "Error in eval(expr, envir, enclos): object 'test' not found\nTraceback:\n"
     ]
    }
   ],
   "source": [
    "test- arshia\n"
   ]
  },
  {
   "cell_type": "code",
   "execution_count": null,
   "id": "861ca746-2f87-49e8-a044-0b568f0aaef7",
   "metadata": {},
   "outputs": [],
   "source": []
  }
 ],
 "metadata": {
  "kernelspec": {
   "display_name": "R",
   "language": "R",
   "name": "ir"
  },
  "language_info": {
   "codemirror_mode": "r",
   "file_extension": ".r",
   "mimetype": "text/x-r-source",
   "name": "R",
   "pygments_lexer": "r",
   "version": "4.1.3"
  }
 },
 "nbformat": 4,
 "nbformat_minor": 5
}
