{
 "cells": [
  {
   "cell_type": "code",
   "execution_count": 1,
   "id": "1a5d16e6-6981-4911-b410-de13b3308472",
   "metadata": {},
   "outputs": [],
   "source": [
    "#test! - salvatore"
   ]
  }
 ],
 "metadata": {
  "kernelspec": {
   "display_name": "R",
   "language": "R",
   "name": "ir"
  },
  "language_info": {
   "codemirror_mode": "r",
   "file_extension": ".r",
   "mimetype": "text/x-r-source",
   "name": "R",
   "pygments_lexer": "r",
   "version": "4.1.3"
  }
 },
 "nbformat": 4,
 "nbformat_minor": 5
}
